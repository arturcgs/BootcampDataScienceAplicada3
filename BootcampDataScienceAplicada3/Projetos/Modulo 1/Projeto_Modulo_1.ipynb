{
  "nbformat": 4,
  "nbformat_minor": 0,
  "metadata": {
    "colab": {
      "name": "Projeto Modulo 1",
      "provenance": [],
      "authorship_tag": "ABX9TyPM3abKJGMJW4N6TOwYFK77",
      "include_colab_link": true
    },
    "kernelspec": {
      "name": "python3",
      "display_name": "Python 3"
    },
    "language_info": {
      "name": "python"
    }
  },
  "cells": [
    {
      "cell_type": "markdown",
      "metadata": {
        "id": "view-in-github",
        "colab_type": "text"
      },
      "source": [
        "<a href=\"https://colab.research.google.com/github/arturcgs/BootcampDataScienceAplicada3/blob/main/BootcampDataScienceAplicada3/Projetos/Modulo%201/Projeto_Modulo_1.ipynb\" target=\"_parent\"><img src=\"https://colab.research.google.com/assets/colab-badge.svg\" alt=\"Open In Colab\"/></a>"
      ]
    },
    {
      "cell_type": "markdown",
      "metadata": {
        "id": "GfbXM_iM4ps4"
      },
      "source": [
        "# Projeto do Módulo 1 - BootCamp Data Science Aplicada 3\n",
        "\n",
        "Neste notebook, analisaremos mtas coisas"
      ]
    },
    {
      "cell_type": "code",
      "metadata": {
        "id": "COBWM0ux44O7"
      },
      "source": [
        ""
      ],
      "execution_count": null,
      "outputs": []
    }
  ]
}