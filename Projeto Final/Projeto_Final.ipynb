{
  "nbformat": 4,
  "nbformat_minor": 0,
  "metadata": {
    "colab": {
      "name": "Projeto Final",
      "provenance": [],
      "authorship_tag": "ABX9TyP8un1rmyQJY6lNQZXV3WI1",
      "include_colab_link": true
    },
    "kernelspec": {
      "name": "python3",
      "display_name": "Python 3"
    },
    "language_info": {
      "name": "python"
    }
  },
  "cells": [
    {
      "cell_type": "markdown",
      "metadata": {
        "id": "view-in-github",
        "colab_type": "text"
      },
      "source": [
        "<a href=\"https://colab.research.google.com/github/arturcgs/BootcampDataScienceAplicada3/blob/main/Projeto%20Final/Projeto_Final.ipynb\" target=\"_parent\"><img src=\"https://colab.research.google.com/assets/colab-badge.svg\" alt=\"Open In Colab\"/></a>"
      ]
    },
    {
      "cell_type": "markdown",
      "source": [
        "#Importação do colab com as funções e dados limpos"
      ],
      "metadata": {
        "id": "1h88_jkU_xel"
      }
    },
    {
      "cell_type": "code",
      "source": [
        "!git clone 'https://github.com/arturcgs/BootcampDataScienceAplicada3/'"
      ],
      "metadata": {
        "id": "VRSswyw5D6Ai",
        "outputId": "63e5bb1b-5bf1-4dd5-c033-762671fee4e7",
        "colab": {
          "base_uri": "https://localhost:8080/"
        }
      },
      "execution_count": 8,
      "outputs": [
        {
          "output_type": "stream",
          "name": "stdout",
          "text": [
            "fatal: destination path 'BootcampDataScienceAplicada3' already exists and is not an empty directory.\n"
          ]
        }
      ]
    },
    {
      "cell_type": "code",
      "source": [
        "#roda o arquivo com as funções e os dados\n",
        "\n",
        "%run '/content/BootcampDataScienceAplicada3/Projeto Final/Notebooks/Projeto_Final_Funcoes_e_Limpeza_de_Dados.ipynb' "
      ],
      "metadata": {
        "id": "ZKaugLRo7_8S",
        "outputId": "9be82bef-99a1-42cd-a21d-2048e9d471fd",
        "colab": {
          "base_uri": "https://localhost:8080/"
        }
      },
      "execution_count": 1,
      "outputs": [
        {
          "output_type": "stream",
          "name": "stdout",
          "text": [
            "Foram excluídos 36 parâmetros\n",
            "Foram excluídos 131 parâmetros\n"
          ]
        }
      ]
    },
    {
      "cell_type": "code",
      "source": [
        "dados_limpos_final"
      ],
      "metadata": {
        "id": "Zlc7OtNREewD",
        "outputId": "6bb71624-55df-4728-be99-a61705238e15",
        "colab": {
          "base_uri": "https://localhost:8080/",
          "height": 172
        }
      },
      "execution_count": 4,
      "outputs": [
        {
          "output_type": "error",
          "ename": "NameError",
          "evalue": "ignored",
          "traceback": [
            "\u001b[0;31m---------------------------------------------------------------------------\u001b[0m",
            "\u001b[0;31mNameError\u001b[0m                                 Traceback (most recent call last)",
            "\u001b[0;32m<ipython-input-4-ad0fc1540ff6>\u001b[0m in \u001b[0;36m<module>\u001b[0;34m()\u001b[0m\n\u001b[0;32m----> 1\u001b[0;31m \u001b[0mdados_limpos_final\u001b[0m\u001b[0;34m\u001b[0m\u001b[0;34m\u001b[0m\u001b[0m\n\u001b[0m",
            "\u001b[0;31mNameError\u001b[0m: name 'dados_limpos_final' is not defined"
          ]
        }
      ]
    },
    {
      "cell_type": "markdown",
      "source": [
        "#Análise Exploratória"
      ],
      "metadata": {
        "id": "qNMt7zC1_51j"
      }
    },
    {
      "cell_type": "code",
      "source": [
        "#Realização do gráfico de UTI por gênero\n",
        "\n",
        "sns.set_style('darkgrid')\n",
        "\n",
        "ax = sns.catplot(x = 'GENDER', data = dados_limpos_final, kind = 'count', hue='ICU', legend = False).set(title = 'Nº de paciente internados na UTI\\nseparado por gênero')\n",
        "\n",
        "#Labels Eixos\n",
        "ax.set(xlabel='Gêneros', ylabel='Nº de pacientes')\n",
        "\n",
        "#Arrumando legenda\n",
        "plt.legend(title='', loc = 1, labels = ['Não foi à UTI', 'Foi à UTI'])\n",
        "\n",
        "plt.show()"
      ],
      "metadata": {
        "id": "0kdoIMkP_MZj",
        "outputId": "8b2237d9-3f33-4ab3-9a8a-4f2ac67d45ed",
        "colab": {
          "base_uri": "https://localhost:8080/",
          "height": 245
        }
      },
      "execution_count": 3,
      "outputs": [
        {
          "output_type": "error",
          "ename": "NameError",
          "evalue": "ignored",
          "traceback": [
            "\u001b[0;31m---------------------------------------------------------------------------\u001b[0m",
            "\u001b[0;31mNameError\u001b[0m                                 Traceback (most recent call last)",
            "\u001b[0;32m<ipython-input-3-2ff5eb8f2cb2>\u001b[0m in \u001b[0;36m<module>\u001b[0;34m()\u001b[0m\n\u001b[1;32m      3\u001b[0m \u001b[0msns\u001b[0m\u001b[0;34m.\u001b[0m\u001b[0mset_style\u001b[0m\u001b[0;34m(\u001b[0m\u001b[0;34m'darkgrid'\u001b[0m\u001b[0;34m)\u001b[0m\u001b[0;34m\u001b[0m\u001b[0;34m\u001b[0m\u001b[0m\n\u001b[1;32m      4\u001b[0m \u001b[0;34m\u001b[0m\u001b[0m\n\u001b[0;32m----> 5\u001b[0;31m \u001b[0max\u001b[0m \u001b[0;34m=\u001b[0m \u001b[0msns\u001b[0m\u001b[0;34m.\u001b[0m\u001b[0mcatplot\u001b[0m\u001b[0;34m(\u001b[0m\u001b[0mx\u001b[0m \u001b[0;34m=\u001b[0m \u001b[0;34m'GENDER'\u001b[0m\u001b[0;34m,\u001b[0m \u001b[0mdata\u001b[0m \u001b[0;34m=\u001b[0m \u001b[0mdados_limpos_final\u001b[0m\u001b[0;34m,\u001b[0m \u001b[0mkind\u001b[0m \u001b[0;34m=\u001b[0m \u001b[0;34m'count'\u001b[0m\u001b[0;34m,\u001b[0m \u001b[0mhue\u001b[0m\u001b[0;34m=\u001b[0m\u001b[0;34m'ICU'\u001b[0m\u001b[0;34m,\u001b[0m \u001b[0mlegend\u001b[0m \u001b[0;34m=\u001b[0m \u001b[0;32mFalse\u001b[0m\u001b[0;34m)\u001b[0m\u001b[0;34m.\u001b[0m\u001b[0mset\u001b[0m\u001b[0;34m(\u001b[0m\u001b[0mtitle\u001b[0m \u001b[0;34m=\u001b[0m \u001b[0;34m'Nº de paciente internados na UTI\\nseparado por gênero'\u001b[0m\u001b[0;34m)\u001b[0m\u001b[0;34m\u001b[0m\u001b[0;34m\u001b[0m\u001b[0m\n\u001b[0m\u001b[1;32m      6\u001b[0m \u001b[0;34m\u001b[0m\u001b[0m\n\u001b[1;32m      7\u001b[0m \u001b[0;31m#Labels Eixos\u001b[0m\u001b[0;34m\u001b[0m\u001b[0;34m\u001b[0m\u001b[0;34m\u001b[0m\u001b[0m\n",
            "\u001b[0;31mNameError\u001b[0m: name 'dados_limpos_final' is not defined"
          ]
        }
      ]
    },
    {
      "cell_type": "code",
      "source": [
        "#Realização do gráfico de UTI por idade acima de 65 anos\n",
        "\n",
        "ax = sns.catplot(x = 'AGE_ABOVE65', data = dados_limpos, kind = 'count', hue='ICU',\n",
        "                 legend = False).set(title = 'Nº de paciente internados na UTI separado\\npor abaixo e acima de 65 anos')\n",
        "\n",
        "#Labels Eixos\n",
        "ax.set(xlabel = '', ylabel='Nº de pacientes')\n",
        "\n",
        "#Nome barras\n",
        "ax.set(xticklabels=['Abaixo de 65 anos', 'Acima de 65 anos'])\n",
        "\n",
        "#Arrumando legenda\n",
        "plt.legend(title='', loc = 1, labels = ['Não foi à UTI', 'Foi à UTI'])\n",
        "\n",
        "plt.show()"
      ],
      "metadata": {
        "id": "VgggnfBsAQC8"
      },
      "execution_count": null,
      "outputs": []
    },
    {
      "cell_type": "code",
      "source": [
        "#Realização de gráfico de UTI por percentil de idade\n",
        "\n",
        "order = [0, 1, 2, 3, 4, 5, 6, 7, 8, 9]\n",
        "\n",
        "ax = sns.catplot(x = 'AGE_PERCENTIL', data = dados_limpos, kind = 'count', hue='ICU',\n",
        "                 order = order, height = 6, aspect = 2, legend = False).set(title = 'Nº de paciente internados na UTI\\nseparado pelo percentil da idade')\n",
        "\n",
        "#Labels Eixos\n",
        "ax.set(xlabel='Percentil da Idade', ylabel='Nº de pacientes')\n",
        "\n",
        "#Nome barras\n",
        "ax.set(xticklabels=['10th', '20th', '30th', '40th', '50th', '60th', '70th', '80th', '90th', 'Above 90th'])\n",
        "\n",
        "#Arrumando Legenda\n",
        "plt.legend(title='', loc = 1, labels = ['Não foi à UTI', 'Foi à UTI'])\n",
        "\n",
        "plt.show()"
      ],
      "metadata": {
        "id": "fSQX6EF2BEqs"
      },
      "execution_count": null,
      "outputs": []
    },
    {
      "cell_type": "markdown",
      "source": [
        "# Testes de diferentes modelos e parâmetros"
      ],
      "metadata": {
        "id": "CEfQHXMyB7as"
      }
    },
    {
      "cell_type": "code",
      "source": [
        "#Separando grupos de saíde e entrada\n",
        "\n",
        "dados_limpos = dados_limpos.drop('PATIENT_VISIT_IDENTIFIER', axis = 1)\n",
        "\n",
        "y = dados_limpos['ICU']\n",
        "x = dados_limpos.drop(['ICU'], axis=1)"
      ],
      "metadata": {
        "id": "s7WcuiXhCJV6"
      },
      "execution_count": null,
      "outputs": []
    },
    {
      "cell_type": "code",
      "source": [
        "#Primeiro, vou separar em grupo treino e teste\n",
        "\n",
        "x_train, x_test, y_train, y_test = train_test_split(x, y, stratify=y, test_size=0.2)"
      ],
      "metadata": {
        "id": "aMVqkVPDBmyj"
      },
      "execution_count": null,
      "outputs": []
    },
    {
      "cell_type": "code",
      "source": [
        "dados_limpos_sem_corr"
      ],
      "metadata": {
        "id": "A-sdmV0eCHDZ"
      },
      "execution_count": null,
      "outputs": []
    },
    {
      "cell_type": "code",
      "source": [
        ""
      ],
      "metadata": {
        "id": "NEBEnGB2CRdh"
      },
      "execution_count": null,
      "outputs": []
    }
  ]
}