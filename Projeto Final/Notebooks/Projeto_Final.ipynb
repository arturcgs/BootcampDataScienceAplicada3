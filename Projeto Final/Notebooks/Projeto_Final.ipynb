{
  "nbformat": 4,
  "nbformat_minor": 0,
  "metadata": {
    "colab": {
      "name": "Projeto Final",
      "provenance": [],
      "authorship_tag": "ABX9TyPBe++hmw8WTxtOfZebTpgf",
      "include_colab_link": true
    },
    "kernelspec": {
      "name": "python3",
      "display_name": "Python 3"
    },
    "language_info": {
      "name": "python"
    }
  },
  "cells": [
    {
      "cell_type": "markdown",
      "metadata": {
        "id": "view-in-github",
        "colab_type": "text"
      },
      "source": [
        "<a href=\"https://colab.research.google.com/github/arturcgs/BootcampDataScienceAplicada3/blob/main/Projeto%20Final/Notebooks/Projeto_Final.ipynb\" target=\"_parent\"><img src=\"https://colab.research.google.com/assets/colab-badge.svg\" alt=\"Open In Colab\"/></a>"
      ]
    },
    {
      "cell_type": "markdown",
      "source": [
        "# Bem vindo!"
      ],
      "metadata": {
        "id": "_3_eBIul3_KP"
      }
    },
    {
      "cell_type": "markdown",
      "source": [
        "Este Notebook é dedicado ao **projeto final do BootCamp Data Science Aplicada 3**, da Alura. \n",
        "\n",
        "Neste projeto, será analisado o banco de dados clínicos de pacientes do Sírio Libanês, disponível no [Kaggle](https://www.kaggle.com/S%C3%ADrio-Libanes/covid19). O objetivo deste banco de dados é gerar um modelo que preveja se um paciente de COVID-19 precisará ser internado na UTI. Para isso, diversos dados clínicos são disponibilizados, como sexo, idade, doenças pré-existentes, resultados de exames de sangue, entre outros."
      ],
      "metadata": {
        "id": "pvrdHaed4CP3"
      }
    },
    {
      "cell_type": "markdown",
      "source": [
        "Este Notebook irá realizar uma Análise Exploratória dos dados, avaliar diferentes modelos e parâmetros diferentes e avaliar e gerar um modelo final.\n",
        "\n",
        "Para impotação de bibliotecas, definição de funções e limpeza de dados, seguir para [este Notebook](https://github.com/arturcgs/BootcampDataScienceAplicada3/blob/main/Projeto%20Final/Notebooks/Projeto_Final_Funcoes_e_Limpeza_de_Dados.ipynb)"
      ],
      "metadata": {
        "id": "cQhuVZ2f4U7w"
      }
    },
    {
      "cell_type": "markdown",
      "source": [
        "# Importação do notebook com as funções e limpeza de dados"
      ],
      "metadata": {
        "id": "5Y8_qloSGzbq"
      }
    },
    {
      "cell_type": "code",
      "execution_count": 1,
      "metadata": {
        "colab": {
          "base_uri": "https://localhost:8080/"
        },
        "id": "9kByu0ZLF6Wv",
        "outputId": "d387c02f-4ce6-4807-956a-c5c4fd9fafca"
      },
      "outputs": [
        {
          "output_type": "stream",
          "name": "stdout",
          "text": [
            "fatal: destination path 'BootcampDataScienceAplicada3' already exists and is not an empty directory.\n"
          ]
        }
      ],
      "source": [
        "#Clonando o git para acessar o notebook desejado\n",
        "\n",
        "!git clone 'https://github.com/arturcgs/BootcampDataScienceAplicada3/'"
      ]
    },
    {
      "cell_type": "code",
      "source": [
        "#roda o notebook com as funções e os dados\n",
        "\n",
        "%run '/content/BootcampDataScienceAplicada3/Projeto Final/Notebooks/Projeto_Final_Funcoes_e_Limpeza_de_Dados.ipynb' "
      ],
      "metadata": {
        "colab": {
          "base_uri": "https://localhost:8080/"
        },
        "id": "NS-FXikdF6-X",
        "outputId": "a2576472-8785-4d85-f96e-03104d76af6b"
      },
      "execution_count": 2,
      "outputs": [
        {
          "output_type": "stream",
          "name": "stdout",
          "text": [
            "Foram excluídos 37 parâmetros\n",
            "Foram excluídos 130 parâmetros\n"
          ]
        }
      ]
    },
    {
      "cell_type": "markdown",
      "source": [
        "#Análise Exploratória"
      ],
      "metadata": {
        "id": "CEFYMbiqG8RG"
      }
    },
    {
      "cell_type": "markdown",
      "source": [
        "Para a Análise Exploratória, o objetivo é simples: entender melhor seus dados. A execução, porém, já é mais complexa. Aqui, eu analisei diferentes variáveis, observando seu comportamento em relação à nossa variável alvo, a internação na UTI. Para isso, plotei gráficos de barras observando três variáveis: Gênero, Idade acima ou abaixo de 65 anos e Percentil de Idade.\n",
        "\n",
        "Inicialmente, eu planejava analisar diferentes resultados de exames, porém, seus dados estão normalizados, impossibilitando a análise exploratória."
      ],
      "metadata": {
        "id": "uWmP5GJ_4-d5"
      }
    },
    {
      "cell_type": "code",
      "source": [
        "#Realização do gráfico de UTI por gênero\n",
        "\n",
        "sns.set_style('darkgrid')\n",
        "\n",
        "ax = sns.catplot(x = 'GENDER', data = dados_limpos_final, kind = 'count', hue='ICU', legend = False).set(title = 'Nº de paciente internados na UTI\\nseparado por gênero')\n",
        "\n",
        "#Labels Eixos\n",
        "ax.set(xlabel='Gêneros', ylabel='Nº de pacientes')\n",
        "\n",
        "#Arrumando legenda\n",
        "plt.legend(title='', loc = 1, labels = ['Não foi à UTI', 'Foi à UTI'])\n",
        "\n",
        "plt.show()"
      ],
      "metadata": {
        "colab": {
          "base_uri": "https://localhost:8080/",
          "height": 400
        },
        "id": "1ffQmK9lGAz6",
        "outputId": "3a5b951c-5352-4cd8-e1d0-1ed4cc7e7277"
      },
      "execution_count": 3,
      "outputs": [
        {
          "output_type": "display_data",
          "data": {
            "image/png": "[encoded data removed]",
            "text/plain": [
              "<Figure size 360x360 with 1 Axes>"
            ]
          },
          "metadata": {}
        }
      ]
    },
    {
      "cell_type": "markdown",
      "source": [
        "Primeiramente, comecei pelo gênero, como pode ser observado acima. Como os dados são anonimizados, não sabemos a qual gênero cada categoria significa. \n",
        "\n",
        "Ao analisar o gráfico, podemos ver que mais pacientes do gênero 0 foram à UTI do que não foram à UTI. Já para o gênero 1, a maioria dos pacientes não foi à UTI. Assim, podemos ver que **a proporção de pacientes que foi à UTI é maior no gênero 0**."
      ],
      "metadata": {
        "id": "GbqA3Ccs5qL5"
      }
    },
    {
      "cell_type": "code",
      "source": [
        "#Realização do gráfico de UTI por idade acima de 65 anos\n",
        "\n",
        "ax = sns.catplot(x = 'AGE_ABOVE65', data = dados_limpos_final, kind = 'count', hue='ICU',\n",
        "                 legend = False).set(title = 'Nº de paciente internados na UTI separado\\npor abaixo e acima de 65 anos')\n",
        "\n",
        "#Labels Eixos\n",
        "ax.set(xlabel = '', ylabel='Nº de pacientes')\n",
        "\n",
        "#Nome barras\n",
        "ax.set(xticklabels=['Abaixo de 65 anos', 'Acima de 65 anos'])\n",
        "\n",
        "#Arrumando legenda\n",
        "plt.legend(title='', loc = 1, labels = ['Não foi à UTI', 'Foi à UTI'])\n",
        "\n",
        "plt.show()"
      ],
      "metadata": {
        "colab": {
          "base_uri": "https://localhost:8080/",
          "height": 385
        },
        "id": "6orFg00sGEPs",
        "outputId": "20b3b231-1b26-4a08-d1bf-687593c41624"
      },
      "execution_count": 4,
      "outputs": [
        {
          "output_type": "display_data",
          "data": {
            "image/png": "[encoded data removed]",
            "text/plain": [
              "<Figure size 360x360 with 1 Axes>"
            ]
          },
          "metadata": {}
        }
      ]
    },
    {
      "cell_type": "markdown",
      "source": [
        "Agora, analisaremos a variável se o paciente tem mais ou menos de 65 anos. Podemos observar que, nos pacientes abaixo de 65 anos, a maioria não foi à UTI. Já nos pacientes acima de 65 anos, o contrário foi observado.\n",
        "\n",
        "Também é possível observar como a diferença de pacientes que foram e não foram à UTI, em ambos os grupos, é muito maior na comparação deste gráfico, no que no gráfico por gênero. Isso pode mostrar que o fato do paciente ter mais ou menos que 65 anos é mais relevante do que seu gênero."
      ],
      "metadata": {
        "id": "RU_x8KfC6H90"
      }
    },
    {
      "cell_type": "code",
      "source": [
        "#Realização de gráfico de UTI por percentil de idade\n",
        "\n",
        "order = [0, 1, 2, 3, 4, 5, 6, 7, 8, 9]\n",
        "\n",
        "ax = sns.catplot(x = 'AGE_PERCENTIL', data = dados_limpos_final, kind = 'count', hue='ICU',\n",
        "                 order = order, height = 6, aspect = 2, legend = False).set(title = 'Nº de paciente internados na UTI\\nseparado pelo percentil da idade')\n",
        "\n",
        "#Labels Eixos\n",
        "ax.set(xlabel='Percentil da Idade', ylabel='Nº de pacientes')\n",
        "\n",
        "#Nome barras\n",
        "ax.set(xticklabels=['10º', '20º', '30º', '40º', '50º', '60º', '70º', '80º', '90º', 'Acimda do 90º'])\n",
        "\n",
        "#Arrumando Legenda\n",
        "plt.legend(title='', loc = 1, labels = ['Não foi à UTI', 'Foi à UTI'])\n",
        "\n",
        "plt.show()"
      ],
      "metadata": {
        "colab": {
          "base_uri": "https://localhost:8080/",
          "height": 471
        },
        "id": "5qJWw9PQHCpR",
        "outputId": "49c407d9-8b80-4489-8b5d-69d2ae16a745"
      },
      "execution_count": 5,
      "outputs": [
        {
          "output_type": "display_data",
          "data": {
            "image/png": "[encoded data removed]",
            "text/plain": [
              "<Figure size 864x432 with 1 Axes>"
            ]
          },
          "metadata": {}
        }
      ]
    },
    {
      "cell_type": "markdown",
      "source": [
        "Agora, observamos o percentil de idade. Esta variável nos mostra, nos 10º, os 10% pacientes mais novos, no 20º, os 20% , e assim por diante.\n",
        "\n",
        "Analisando o gráfico, é claro como o número de pacientes que vâo à UTI tendo a aumentar diretamente relacionado ao percentil da idade. Esse é um grande indicativo que, quanto maior a idade, maior o risco do paciente ir à UTI."
      ],
      "metadata": {
        "id": "lOqnXhJw-Qda"
      }
    },
    {
      "cell_type": "markdown",
      "source": [
        "# Testando modelos e hiperparâmetros diferentes"
      ],
      "metadata": {
        "id": "rG8R0mXYHScQ"
      }
    },
    {
      "cell_type": "markdown",
      "source": [
        "Com a Análise Exploratório realizada, e entendendo melhor nosso banco de dados, podemos passar aos testes de diferentes modelos e hiperparâmetros. \n",
        "\n",
        "Primeiramente, o banco de dados é dividido entre um grup de treino e outro de teste. O grupo treino, então, passará por uma batelada de testes para decidirmos qual o melhor modelo para seguirmos nossos estudos.\n",
        "\n",
        "Para este projeto, decidi testar 4 modelos diferentes:\n",
        "1. Regressão Logística - Linear Model\n",
        "2. Random Forest - Ensemble\n",
        "3. C-Support Vector Classification (SVC) - Support Vector Machine (SVM)\n",
        "4. Multi-layer Perceptron Classifier - Neural Network\n",
        "\n",
        "Estes modelos foram escolhidos para testarmos diferentes estratégias e tipos de modelos. "
      ],
      "metadata": {
        "id": "BFN_hGzE-6L_"
      }
    },
    {
      "cell_type": "code",
      "source": [
        "#Setando a seed\n",
        "\n",
        "np.random.seed(346689)"
      ],
      "metadata": {
        "id": "JWXPmB3O7bol"
      },
      "execution_count": 26,
      "outputs": []
    },
    {
      "cell_type": "code",
      "source": [
        "#Separando grupos de saída e entrada\n",
        "\n",
        "y = dados_limpos_final['ICU']\n",
        "x = dados_limpos_final.drop(['ICU'], axis=1)\n",
        "\n",
        "#Separando entre grupo treino e teste\n",
        "\n",
        "x_train, x_test, y_train, y_test = train_test_split(x, y, stratify=y, test_size=0.2)"
      ],
      "metadata": {
        "id": "LmtrGIZ5HR8U"
      },
      "execution_count": 27,
      "outputs": []
    },
    {
      "cell_type": "code",
      "source": [
        "#Primeiro, vamos criar o model_params que eu vou usar no RandomizedSearchCV\n",
        "\n",
        "model_params = {\n",
        "    'Logistic Regression': {\n",
        "        'model': LogisticRegression(max_iter = 10000),\n",
        "        'params': {\n",
        "            'penalty': ['l1', 'l2'],\n",
        "            'solver': ['lbfgs', 'liblinear', 'saga'],\n",
        "            'C': [10, 1.0, 0.1]\n",
        "        }\n",
        "    },\n",
        "    'Random Forest': {\n",
        "        'model': RandomForestClassifier(),\n",
        "        'params': {\n",
        "            'n_estimators': randint(10, 500),\n",
        "            'max_depth': randint(3, 6),\n",
        "            'min_samples_split': randint(32, 129),\n",
        "            'min_samples_leaf': randint(32, 129),\n",
        "            'bootstrap': [True, False],\n",
        "            'criterion': ['gini', 'entropy']\n",
        "        }\n",
        "    },\n",
        "    'SVC': {\n",
        "        'model': SVC(),\n",
        "        'params': {\n",
        "            'C': [0.1,1, 10, 100],\n",
        "            'gamma': [1,0.1,0.01,0.001],\n",
        "            'kernel': ['rbf', 'poly', 'sigmoid']\n",
        "        }\n",
        "    },\n",
        "}"
      ],
      "metadata": {
        "id": "T3hkdseHHDmP"
      },
      "execution_count": 28,
      "outputs": []
    },
    {
      "cell_type": "code",
      "source": [
        "resultado_best_params = best_params_randomized(x_train, y_train, model_params)"
      ],
      "metadata": {
        "colab": {
          "base_uri": "https://localhost:8080/"
        },
        "id": "uqi28pW2H7Ib",
        "outputId": "513c7ba3-7a11-4e2f-91a9-bceac168f46a"
      },
      "execution_count": 29,
      "outputs": [
        {
          "output_type": "stream",
          "name": "stderr",
          "text": [
            "/usr/local/lib/python3.7/dist-packages/sklearn/model_selection/_search.py:296: UserWarning: The total space of parameters 18 is smaller than n_iter=20. Running 18 iterations. For exhaustive searches, use GridSearchCV.\n",
            "  UserWarning,\n",
            "/usr/local/lib/python3.7/dist-packages/sklearn/model_selection/_validation.py:372: FitFailedWarning: \n",
            "150 fits failed out of a total of 900.\n",
            "The score on these train-test partitions for these parameters will be set to nan.\n",
            "If these failures are not expected, you can try to debug them by setting error_score='raise'.\n",
            "\n",
            "Below are more details about the failures:\n",
            "--------------------------------------------------------------------------------\n",
            "150 fits failed with the following error:\n",
            "Traceback (most recent call last):\n",
            "  File \"/usr/local/lib/python3.7/dist-packages/sklearn/model_selection/_validation.py\", line 680, in _fit_and_score\n",
            "    estimator.fit(X_train, y_train, **fit_params)\n",
            "  File \"/usr/local/lib/python3.7/dist-packages/sklearn/linear_model/_logistic.py\", line 1461, in fit\n",
            "    solver = _check_solver(self.solver, self.penalty, self.dual)\n",
            "  File \"/usr/local/lib/python3.7/dist-packages/sklearn/linear_model/_logistic.py\", line 449, in _check_solver\n",
            "    % (solver, penalty)\n",
            "ValueError: Solver lbfgs supports only 'l2' or 'none' penalties, got l1 penalty.\n",
            "\n",
            "  warnings.warn(some_fits_failed_message, FitFailedWarning)\n",
            "/usr/local/lib/python3.7/dist-packages/sklearn/model_selection/_search.py:972: UserWarning: One or more of the test scores are non-finite: [       nan 0.74471712 0.74880893 0.75467825 0.7494756  0.75089992\n",
            "        nan 0.76551696 0.77164185 0.77398594 0.7660306  0.76844748\n",
            "        nan 0.75009843 0.70381307 0.75603226 0.75345658 0.7550397 ]\n",
            "  category=UserWarning,\n"
          ]
        },
        {
          "output_type": "stream",
          "name": "stdout",
          "text": [
            "Tempo de execução:  8.386\n"
          ]
        }
      ]
    },
    {
      "cell_type": "code",
      "source": [
        "model_params_MLP = {\n",
        "    'MLP Classifier': {\n",
        "        'model': MLPClassifier(max_iter = 3000),\n",
        "        'params': {\n",
        "            'hidden_layer_sizes': [(50,50,50), (50,100,50), (100,)],\n",
        "            'activation': ['tanh', 'relu', 'logistic'],\n",
        "            'solver': ['sgd', 'adam', 'lbfgs'],\n",
        "            'alpha': [0.0001, 0.05],\n",
        "            'learning_rate': ['constant','adaptive', 'invscaling'],\n",
        "        }\n",
        "    }\n",
        "}"
      ],
      "metadata": {
        "id": "Il8gpa7ZIIez"
      },
      "execution_count": 35,
      "outputs": []
    },
    {
      "cell_type": "code",
      "source": [
        "resultado_best_params_MLP = best_params_randomized(x, y, model_params_MLP, n_repeats = 5, n_iter = 3)"
      ],
      "metadata": {
        "colab": {
          "base_uri": "https://localhost:8080/"
        },
        "id": "08j467FyIMg4",
        "outputId": "2d4fd00b-b707-46ed-a3bf-a369cc844a0b"
      },
      "execution_count": 36,
      "outputs": [
        {
          "output_type": "stream",
          "name": "stdout",
          "text": [
            "Tempo de execução:  15.775\n"
          ]
        }
      ]
    },
    {
      "cell_type": "code",
      "source": [
        "#Juntando as duas tabelas de resultados\n",
        "\n",
        "resultados = pd.concat([resultado_best_params, resultado_best_params_MLP], ignore_index = True, axis = 0)\n",
        "\n",
        "resultados"
      ],
      "metadata": {
        "colab": {
          "base_uri": "https://localhost:8080/",
          "height": 175
        },
        "id": "2mzWUev9Of9F",
        "outputId": "ddd0dde4-8ff7-41c7-adb9-4806d99adc3d"
      },
      "execution_count": 37,
      "outputs": [
        {
          "output_type": "execute_result",
          "data": {
            "text/html": [
              "\n",
              "  <div id=\"df-26b58640-0c1c-41b8-a762-35265b6a5c78\">\n",
              "    <div class=\"colab-df-container\">\n",
              "      <div>\n",
              "<style scoped>\n",
              "    .dataframe tbody tr th:only-of-type {\n",
              "        vertical-align: middle;\n",
              "    }\n",
              "\n",
              "    .dataframe tbody tr th {\n",
              "        vertical-align: top;\n",
              "    }\n",
              "\n",
              "    .dataframe thead th {\n",
              "        text-align: right;\n",
              "    }\n",
              "</style>\n",
              "<table border=\"1\" class=\"dataframe\">\n",
              "  <thead>\n",
              "    <tr style=\"text-align: right;\">\n",
              "      <th></th>\n",
              "      <th>model</th>\n",
              "      <th>best_score</th>\n",
              "      <th>best_params</th>\n",
              "    </tr>\n",
              "  </thead>\n",
              "  <tbody>\n",
              "    <tr>\n",
              "      <th>0</th>\n",
              "      <td>Logistic Regression</td>\n",
              "      <td>0.773986</td>\n",
              "      <td>{'solver': 'lbfgs', 'penalty': 'l2', 'C': 1.0}</td>\n",
              "    </tr>\n",
              "    <tr>\n",
              "      <th>1</th>\n",
              "      <td>Random Forest</td>\n",
              "      <td>0.782738</td>\n",
              "      <td>{'bootstrap': True, 'criterion': 'gini', 'max_...</td>\n",
              "    </tr>\n",
              "    <tr>\n",
              "      <th>2</th>\n",
              "      <td>SVC</td>\n",
              "      <td>0.771607</td>\n",
              "      <td>{'kernel': 'rbf', 'gamma': 0.01, 'C': 10}</td>\n",
              "    </tr>\n",
              "    <tr>\n",
              "      <th>3</th>\n",
              "      <td>MLP Classifier</td>\n",
              "      <td>0.746725</td>\n",
              "      <td>{'solver': 'sgd', 'learning_rate': 'adaptive',...</td>\n",
              "    </tr>\n",
              "  </tbody>\n",
              "</table>\n",
              "</div>\n",
              "      <button class=\"colab-df-convert\" onclick=\"convertToInteractive('df-26b58640-0c1c-41b8-a762-35265b6a5c78')\"\n",
              "              title=\"Convert this dataframe to an interactive table.\"\n",
              "              style=\"display:none;\">\n",
              "        \n",
              "  <svg xmlns=\"http://www.w3.org/2000/svg\" height=\"24px\"viewBox=\"0 0 24 24\"\n",
              "       width=\"24px\">\n",
              "    <path d=\"M0 0h24v24H0V0z\" fill=\"none\"/>\n",
              "    <path d=\"M18.56 5.44l.94 2.06.94-2.06 2.06-.94-2.06-.94-.94-2.06-.94 2.06-2.06.94zm-11 1L8.5 8.5l.94-2.06 2.06-.94-2.06-.94L8.5 2.5l-.94 2.06-2.06.94zm10 10l.94 2.06.94-2.06 2.06-.94-2.06-.94-.94-2.06-.94 2.06-2.06.94z\"/><path d=\"M17.41 7.96l-1.37-1.37c-.4-.4-.92-.59-1.43-.59-.52 0-1.04.2-1.43.59L10.3 9.45l-7.72 7.72c-.78.78-.78 2.05 0 2.83L4 21.41c.39.39.9.59 1.41.59.51 0 1.02-.2 1.41-.59l7.78-7.78 2.81-2.81c.8-.78.8-2.07 0-2.86zM5.41 20L4 18.59l7.72-7.72 1.47 1.35L5.41 20z\"/>\n",
              "  </svg>\n",
              "      </button>\n",
              "      \n",
              "  <style>\n",
              "    .colab-df-container {\n",
              "      display:flex;\n",
              "      flex-wrap:wrap;\n",
              "      gap: 12px;\n",
              "    }\n",
              "\n",
              "    .colab-df-convert {\n",
              "      background-color: #E8F0FE;\n",
              "      border: none;\n",
              "      border-radius: 50%;\n",
              "      cursor: pointer;\n",
              "      display: none;\n",
              "      fill: #1967D2;\n",
              "      height: 32px;\n",
              "      padding: 0 0 0 0;\n",
              "      width: 32px;\n",
              "    }\n",
              "\n",
              "    .colab-df-convert:hover {\n",
              "      background-color: #E2EBFA;\n",
              "      box-shadow: 0px 1px 2px rgba(60, 64, 67, 0.3), 0px 1px 3px 1px rgba(60, 64, 67, 0.15);\n",
              "      fill: #174EA6;\n",
              "    }\n",
              "\n",
              "    [theme=dark] .colab-df-convert {\n",
              "      background-color: #3B4455;\n",
              "      fill: #D2E3FC;\n",
              "    }\n",
              "\n",
              "    [theme=dark] .colab-df-convert:hover {\n",
              "      background-color: #434B5C;\n",
              "      box-shadow: 0px 1px 3px 1px rgba(0, 0, 0, 0.15);\n",
              "      filter: drop-shadow(0px 1px 2px rgba(0, 0, 0, 0.3));\n",
              "      fill: #FFFFFF;\n",
              "    }\n",
              "  </style>\n",
              "\n",
              "      <script>\n",
              "        const buttonEl =\n",
              "          document.querySelector('#df-26b58640-0c1c-41b8-a762-35265b6a5c78 button.colab-df-convert');\n",
              "        buttonEl.style.display =\n",
              "          google.colab.kernel.accessAllowed ? 'block' : 'none';\n",
              "\n",
              "        async function convertToInteractive(key) {\n",
              "          const element = document.querySelector('#df-26b58640-0c1c-41b8-a762-35265b6a5c78');\n",
              "          const dataTable =\n",
              "            await google.colab.kernel.invokeFunction('convertToInteractive',\n",
              "                                                     [key], {});\n",
              "          if (!dataTable) return;\n",
              "\n",
              "          const docLinkHtml = 'Like what you see? Visit the ' +\n",
              "            '<a target=\"_blank\" href=https://colab.research.google.com/notebooks/data_table.ipynb>data table notebook</a>'\n",
              "            + ' to learn more about interactive tables.';\n",
              "          element.innerHTML = '';\n",
              "          dataTable['output_type'] = 'display_data';\n",
              "          await google.colab.output.renderOutput(dataTable, element);\n",
              "          const docLink = document.createElement('div');\n",
              "          docLink.innerHTML = docLinkHtml;\n",
              "          element.appendChild(docLink);\n",
              "        }\n",
              "      </script>\n",
              "    </div>\n",
              "  </div>\n",
              "  "
            ],
            "text/plain": [
              "                 model  ...                                        best_params\n",
              "0  Logistic Regression  ...     {'solver': 'lbfgs', 'penalty': 'l2', 'C': 1.0}\n",
              "1        Random Forest  ...  {'bootstrap': True, 'criterion': 'gini', 'max_...\n",
              "2                  SVC  ...          {'kernel': 'rbf', 'gamma': 0.01, 'C': 10}\n",
              "3       MLP Classifier  ...  {'solver': 'sgd', 'learning_rate': 'adaptive',...\n",
              "\n",
              "[4 rows x 3 columns]"
            ]
          },
          "metadata": {},
          "execution_count": 37
        }
      ]
    },
    {
      "cell_type": "code",
      "source": [
        "#Vendo os parâmetros utilizados no modelo de RandomForest com melhor resultado\n",
        "\n",
        "print(\"O modelo de Random Forest com melhor resultado utilizou os seguinte parâmetros:\\n\")\n",
        "resultados.iat[1,2]"
      ],
      "metadata": {
        "colab": {
          "base_uri": "https://localhost:8080/"
        },
        "id": "XL-HtqVbFItR",
        "outputId": "3445d37c-11ef-4bba-b0e7-6933be1fbcfd"
      },
      "execution_count": 38,
      "outputs": [
        {
          "output_type": "stream",
          "name": "stdout",
          "text": [
            "O modelo de Random Forest com melhor resultado utilizou os seguinte parâmetros:\n",
            "\n"
          ]
        },
        {
          "output_type": "execute_result",
          "data": {
            "text/plain": [
              "{'bootstrap': True,\n",
              " 'criterion': 'gini',\n",
              " 'max_depth': 3,\n",
              " 'min_samples_leaf': 40,\n",
              " 'min_samples_split': 34,\n",
              " 'n_estimators': 182}"
            ]
          },
          "metadata": {},
          "execution_count": 38
        }
      ]
    },
    {
      "cell_type": "code",
      "source": [
        "#Primeiro, vamos criar o model_params q eu vou usar no RandomizedSearchCV\n",
        "\n",
        "model_params_rf = {\n",
        "    'Random Forest': {\n",
        "        'model': RandomForestClassifier(max_depth = 5, criterion='gini'),\n",
        "        'params': {\n",
        "            'n_estimators': [100, 200],\n",
        "            'max_depth': [3, 4],\n",
        "            'min_samples_leaf': [30, 40, 50],\n",
        "            'min_samples_split': [30, 40, 50],\n",
        "            'bootstrap': [True, False]\n",
        "        }\n",
        "    }\n",
        "}"
      ],
      "metadata": {
        "id": "SAzeNjtIQIzz"
      },
      "execution_count": 39,
      "outputs": []
    },
    {
      "cell_type": "code",
      "source": [
        "resultado_rf = best_params_grid(x, y, model_params_rf, n_repeats = 10)\n",
        "\n",
        "resultado_rf"
      ],
      "metadata": {
        "colab": {
          "base_uri": "https://localhost:8080/",
          "height": 99
        },
        "id": "W8cvYWJsRYq1",
        "outputId": "eec62450-86b3-43fd-dfff-316d5020179b"
      },
      "execution_count": 40,
      "outputs": [
        {
          "output_type": "stream",
          "name": "stdout",
          "text": [
            "Tempo de execução:  14.382\n"
          ]
        },
        {
          "output_type": "execute_result",
          "data": {
            "text/html": [
              "\n",
              "  <div id=\"df-d5a01781-7c20-481c-a27c-01cf35227008\">\n",
              "    <div class=\"colab-df-container\">\n",
              "      <div>\n",
              "<style scoped>\n",
              "    .dataframe tbody tr th:only-of-type {\n",
              "        vertical-align: middle;\n",
              "    }\n",
              "\n",
              "    .dataframe tbody tr th {\n",
              "        vertical-align: top;\n",
              "    }\n",
              "\n",
              "    .dataframe thead th {\n",
              "        text-align: right;\n",
              "    }\n",
              "</style>\n",
              "<table border=\"1\" class=\"dataframe\">\n",
              "  <thead>\n",
              "    <tr style=\"text-align: right;\">\n",
              "      <th></th>\n",
              "      <th>model</th>\n",
              "      <th>best_score</th>\n",
              "      <th>best_params</th>\n",
              "    </tr>\n",
              "  </thead>\n",
              "  <tbody>\n",
              "    <tr>\n",
              "      <th>0</th>\n",
              "      <td>Random Forest</td>\n",
              "      <td>0.791515</td>\n",
              "      <td>{'bootstrap': True, 'max_depth': 3, 'min_sampl...</td>\n",
              "    </tr>\n",
              "  </tbody>\n",
              "</table>\n",
              "</div>\n",
              "      <button class=\"colab-df-convert\" onclick=\"convertToInteractive('df-d5a01781-7c20-481c-a27c-01cf35227008')\"\n",
              "              title=\"Convert this dataframe to an interactive table.\"\n",
              "              style=\"display:none;\">\n",
              "        \n",
              "  <svg xmlns=\"http://www.w3.org/2000/svg\" height=\"24px\"viewBox=\"0 0 24 24\"\n",
              "       width=\"24px\">\n",
              "    <path d=\"M0 0h24v24H0V0z\" fill=\"none\"/>\n",
              "    <path d=\"M18.56 5.44l.94 2.06.94-2.06 2.06-.94-2.06-.94-.94-2.06-.94 2.06-2.06.94zm-11 1L8.5 8.5l.94-2.06 2.06-.94-2.06-.94L8.5 2.5l-.94 2.06-2.06.94zm10 10l.94 2.06.94-2.06 2.06-.94-2.06-.94-.94-2.06-.94 2.06-2.06.94z\"/><path d=\"M17.41 7.96l-1.37-1.37c-.4-.4-.92-.59-1.43-.59-.52 0-1.04.2-1.43.59L10.3 9.45l-7.72 7.72c-.78.78-.78 2.05 0 2.83L4 21.41c.39.39.9.59 1.41.59.51 0 1.02-.2 1.41-.59l7.78-7.78 2.81-2.81c.8-.78.8-2.07 0-2.86zM5.41 20L4 18.59l7.72-7.72 1.47 1.35L5.41 20z\"/>\n",
              "  </svg>\n",
              "      </button>\n",
              "      \n",
              "  <style>\n",
              "    .colab-df-container {\n",
              "      display:flex;\n",
              "      flex-wrap:wrap;\n",
              "      gap: 12px;\n",
              "    }\n",
              "\n",
              "    .colab-df-convert {\n",
              "      background-color: #E8F0FE;\n",
              "      border: none;\n",
              "      border-radius: 50%;\n",
              "      cursor: pointer;\n",
              "      display: none;\n",
              "      fill: #1967D2;\n",
              "      height: 32px;\n",
              "      padding: 0 0 0 0;\n",
              "      width: 32px;\n",
              "    }\n",
              "\n",
              "    .colab-df-convert:hover {\n",
              "      background-color: #E2EBFA;\n",
              "      box-shadow: 0px 1px 2px rgba(60, 64, 67, 0.3), 0px 1px 3px 1px rgba(60, 64, 67, 0.15);\n",
              "      fill: #174EA6;\n",
              "    }\n",
              "\n",
              "    [theme=dark] .colab-df-convert {\n",
              "      background-color: #3B4455;\n",
              "      fill: #D2E3FC;\n",
              "    }\n",
              "\n",
              "    [theme=dark] .colab-df-convert:hover {\n",
              "      background-color: #434B5C;\n",
              "      box-shadow: 0px 1px 3px 1px rgba(0, 0, 0, 0.15);\n",
              "      filter: drop-shadow(0px 1px 2px rgba(0, 0, 0, 0.3));\n",
              "      fill: #FFFFFF;\n",
              "    }\n",
              "  </style>\n",
              "\n",
              "      <script>\n",
              "        const buttonEl =\n",
              "          document.querySelector('#df-d5a01781-7c20-481c-a27c-01cf35227008 button.colab-df-convert');\n",
              "        buttonEl.style.display =\n",
              "          google.colab.kernel.accessAllowed ? 'block' : 'none';\n",
              "\n",
              "        async function convertToInteractive(key) {\n",
              "          const element = document.querySelector('#df-d5a01781-7c20-481c-a27c-01cf35227008');\n",
              "          const dataTable =\n",
              "            await google.colab.kernel.invokeFunction('convertToInteractive',\n",
              "                                                     [key], {});\n",
              "          if (!dataTable) return;\n",
              "\n",
              "          const docLinkHtml = 'Like what you see? Visit the ' +\n",
              "            '<a target=\"_blank\" href=https://colab.research.google.com/notebooks/data_table.ipynb>data table notebook</a>'\n",
              "            + ' to learn more about interactive tables.';\n",
              "          element.innerHTML = '';\n",
              "          dataTable['output_type'] = 'display_data';\n",
              "          await google.colab.output.renderOutput(dataTable, element);\n",
              "          const docLink = document.createElement('div');\n",
              "          docLink.innerHTML = docLinkHtml;\n",
              "          element.appendChild(docLink);\n",
              "        }\n",
              "      </script>\n",
              "    </div>\n",
              "  </div>\n",
              "  "
            ],
            "text/plain": [
              "           model  best_score                                        best_params\n",
              "0  Random Forest    0.791515  {'bootstrap': True, 'max_depth': 3, 'min_sampl..."
            ]
          },
          "metadata": {},
          "execution_count": 40
        }
      ]
    },
    {
      "cell_type": "code",
      "source": [
        "resultado_rf['best_params'].values"
      ],
      "metadata": {
        "colab": {
          "base_uri": "https://localhost:8080/"
        },
        "id": "7YWb_FBSmB6C",
        "outputId": "848352d2-a0e4-49e0-92c5-eef0687dbe3f"
      },
      "execution_count": 41,
      "outputs": [
        {
          "output_type": "execute_result",
          "data": {
            "text/plain": [
              "array([{'bootstrap': True, 'max_depth': 3, 'min_samples_leaf': 30, 'min_samples_split': 30, 'n_estimators': 100}],\n",
              "      dtype=object)"
            ]
          },
          "metadata": {},
          "execution_count": 41
        }
      ]
    },
    {
      "cell_type": "code",
      "source": [
        ""
      ],
      "metadata": {
        "id": "td5w178WJhIo"
      },
      "execution_count": null,
      "outputs": []
    }
  ]
}